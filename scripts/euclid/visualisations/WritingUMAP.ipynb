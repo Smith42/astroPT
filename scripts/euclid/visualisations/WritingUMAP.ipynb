{
 "cells": [
  {
   "cell_type": "code",
   "execution_count": 15,
   "id": "993c06cc",
   "metadata": {},
   "outputs": [],
   "source": [
    "import numpy as np\n",
    "import umap\n",
    "import matplotlib.pyplot as plt\n",
    "from astropy.io import fits\n",
    "import os\n",
    "import time\n",
    "from astropy.table import Table\n"
   ]
  },
  {
   "cell_type": "code",
   "execution_count": 16,
   "id": "eba18d2a",
   "metadata": {},
   "outputs": [],
   "source": [
    "# Load data and embeddings\n",
    "def load_data_and_embeddings(folder_path, embedding_file, idx_file, catalog_path, txt_file):\n",
    "    # Load catalog data\n",
    "    with fits.open(catalog_path) as hdul:\n",
    "        catalog_data = hdul[1].data\n",
    "\n",
    "    # Load galaxy names from txt file\n",
    "    with open(os.path.join(folder_path, txt_file), \"r\") as f:\n",
    "        file_names = [line.strip() for line in f.readlines()]\n",
    "\n",
    "    # Load embeddings and indices\n",
    "    zss = np.load(os.path.join(folder_path, embedding_file))\n",
    "    idxs = np.load(os.path.join(folder_path, idx_file))\n",
    "    file_names_selected = [file_names[idx] for idx in idxs]\n",
    "\n",
    "    # Map embeddings to catalog indices\n",
    "    catalog_file_names = catalog_data['name']\n",
    "    catalog_name_to_idx = {name: i for i, name in enumerate(catalog_file_names)}\n",
    "    print(\"Number of matches\", len(catalog_name_to_idx))\n",
    "\n",
    "    # Extract property values and valid embeddings\n",
    "    embeddings, object_id = [], []\n",
    "    for file_name in file_names_selected:\n",
    "        catalog_idx = catalog_name_to_idx.get(file_name)\n",
    "        if catalog_idx is not None:\n",
    "            embeddings.append(zss[file_names_selected.index(file_name)])\n",
    "            object_id.append(catalog_data['object_id'][catalog_idx])\n",
    "\n",
    "    # Validation prints\n",
    "    print(f\"Loaded {len(embeddings)} embeddings.\")\n",
    "    print(f\"Loaded {len(object_id)}.\")\n",
    "    return np.array(embeddings), np.array(object_id)"
   ]
  },
  {
   "cell_type": "code",
   "execution_count": 17,
   "id": "7c878666",
   "metadata": {},
   "outputs": [],
   "source": [
    "# Q1 data path\n",
    "catalog_path = \"../Q1_data/EuclidMorphPhysPropSpecZ.fits\" "
   ]
  },
  {
   "cell_type": "code",
   "execution_count": 4,
   "id": "4b52c981",
   "metadata": {},
   "outputs": [],
   "source": [
    "# Embeddings file names\n",
    "train_embedding_file = \"zss_64t_mean.npy\"\n",
    "train_idx_file = \"idxs_64t_mean.npy\"\n",
    "test_embedding_file = \"zss_64t_mean_test.npy\"\n",
    "test_idx_file = \"idxs_64t_mean_test.npy\"\n",
    "train_txt_file = \"train.txt\"\n",
    "test_txt_file = \"test.txt\""
   ]
  },
  {
   "cell_type": "code",
   "execution_count": 5,
   "id": "be927665",
   "metadata": {},
   "outputs": [],
   "source": [
    "# Folder path for VIS\n",
    "folder_path = \"VIS\"  "
   ]
  },
  {
   "cell_type": "code",
   "execution_count": 7,
   "id": "91277110",
   "metadata": {},
   "outputs": [],
   "source": [
    "# Folder for VIS+NISP+SED data\n",
    "folder_path = \"VIS_NISP_SED\" "
   ]
  },
  {
   "cell_type": "code",
   "execution_count": 18,
   "id": "61ecce6a",
   "metadata": {},
   "outputs": [],
   "source": [
    "# Folder and names for only the SED data\n",
    "folder_path = \"VIS_NISP_SED\" \n",
    "train_embedding_file = \"zss_sedonly.npy\"\n",
    "train_idx_file = \"idxs_sedonly.npy\"\n",
    "test_embedding_file = \"zss_sedonly_test.npy\"\n",
    "test_idx_file = \"idxs_sedonly_test.npy\"\n",
    "train_txt_file = \"train.txt\"\n",
    "test_txt_file = \"test.txt\""
   ]
  },
  {
   "cell_type": "code",
   "execution_count": 19,
   "id": "eefe51f3",
   "metadata": {},
   "outputs": [
    {
     "name": "stdout",
     "output_type": "stream",
     "text": [
      "Number of matches 331759\n",
      "Loaded 264800 embeddings.\n",
      "Loaded 264800.\n",
      "Embeddings shape: (264800, 768)\n"
     ]
    }
   ],
   "source": [
    "# Load data\n",
    "train_embeddings, train_object_id = load_data_and_embeddings(\n",
    "    folder_path, train_embedding_file, train_idx_file, catalog_path, \"train.txt\"\n",
    ")\n",
    "\n",
    "print(\"Embeddings shape:\", train_embeddings.shape)\n"
   ]
  },
  {
   "cell_type": "code",
   "execution_count": 20,
   "id": "66652673",
   "metadata": {},
   "outputs": [
    {
     "name": "stderr",
     "output_type": "stream",
     "text": [
      "/home/msiudek/myspace/software/env/lib/python3.10/site-packages/umap/umap_.py:1952: UserWarning: n_jobs value 1 overridden to 1 by setting random_state. Use no seed for parallelism.\n",
      "  warn(\n"
     ]
    },
    {
     "name": "stdout",
     "output_type": "stream",
     "text": [
      "UMAP completed in 184.85 seconds\n"
     ]
    }
   ],
   "source": [
    "umap_model = umap.UMAP(n_neighbors=15, min_dist=0.1, n_components=2, random_state=42)\n",
    "\n",
    "start_time = time.time()\n",
    "zss_vis = umap_model.fit_transform(train_embeddings)\n",
    "print(f\"UMAP completed in {time.time() - start_time:.2f} seconds\")"
   ]
  },
  {
   "cell_type": "code",
   "execution_count": 21,
   "id": "36d13b29",
   "metadata": {},
   "outputs": [],
   "source": [
    "# Write results to FITS\n",
    "data = Table({\n",
    "    'id': train_object_id,\n",
    "    'UMAP1': zss_vis[:, 0],\n",
    "    'UMAP2': zss_vis[:, 1]\n",
    "    })\n",
    "hdu = fits.BinTableHDU(data)\n",
    "#hdu.writeto(\"UMAP_VIS_NISP_SED_train.fits\", overwrite=True)\n",
    "hdu.writeto(\"UMAP_SED_train.fits\", overwrite=True)\n"
   ]
  },
  {
   "cell_type": "code",
   "execution_count": 5,
   "id": "24e4e04f",
   "metadata": {},
   "outputs": [
    {
     "name": "stdout",
     "output_type": "stream",
     "text": [
      "Number of matches 331759\n",
      "Loaded 66960 embeddings.\n",
      "Loaded 66960 smooth.\n",
      "Embeddings shape: (66960, 768)\n"
     ]
    }
   ],
   "source": [
    "# Load test data\n",
    "test_embeddings, test_object_id = load_data_and_embeddings(\n",
    "    folder_path, test_embedding_file, test_idx_file, catalog_path, \"test.txt\"\n",
    ")\n",
    "\n",
    "print(\"Embeddings shape:\", test_embeddings.shape)\n"
   ]
  },
  {
   "cell_type": "code",
   "execution_count": 6,
   "id": "481e0e50",
   "metadata": {},
   "outputs": [
    {
     "name": "stderr",
     "output_type": "stream",
     "text": [
      "/home/msiudek/myspace/software/env/lib/python3.10/site-packages/umap/umap_.py:1952: UserWarning: n_jobs value 1 overridden to 1 by setting random_state. Use no seed for parallelism.\n",
      "  warn(\n",
      "/home/msiudek/myspace/software/env/lib/python3.10/site-packages/numba/np/ufunc/parallel.py:371: NumbaWarning: The TBB threading layer requires TBB version 2021 update 6 or later i.e., TBB_INTERFACE_VERSION >= 12060. Found TBB_INTERFACE_VERSION = 12050. The TBB threading layer is disabled.\n",
      "  warnings.warn(problem)\n"
     ]
    },
    {
     "name": "stdout",
     "output_type": "stream",
     "text": [
      "UMAP for VIS completed in 54.71 seconds\n"
     ]
    }
   ],
   "source": [
    "# Perform UMAP for dimensionality reduction\n",
    "umap_model = umap.UMAP(n_neighbors=15, min_dist=0.1, n_components=2, random_state=42)\n",
    "\n",
    "start_time = time.time()\n",
    "zss_vis = umap_model.fit_transform(test_embeddings)\n",
    "print(f\"UMAP completed in {time.time() - start_time:.2f} seconds\")"
   ]
  },
  {
   "cell_type": "code",
   "execution_count": 7,
   "id": "0faf6aa7",
   "metadata": {},
   "outputs": [],
   "source": [
    "# Write results to FITS\n",
    "data = Table({\n",
    "    'id': test_object_id,\n",
    "    'UMAP1': zss_vis[:, 0],\n",
    "    'UMAP2': zss_vis[:, 1]\n",
    "    })\n",
    "hdu = fits.BinTableHDU(data)\n",
    "hdu.writeto(\"UMAP_VIS_NISP_SED_test.fits\", overwrite=True)\n"
   ]
  }
 ],
 "metadata": {
  "kernelspec": {
   "display_name": "Python (env)",
   "language": "python",
   "name": "env"
  },
  "language_info": {
   "codemirror_mode": {
    "name": "ipython",
    "version": 3
   },
   "file_extension": ".py",
   "mimetype": "text/x-python",
   "name": "python",
   "nbconvert_exporter": "python",
   "pygments_lexer": "ipython3",
   "version": "3.10.12"
  }
 },
 "nbformat": 4,
 "nbformat_minor": 5
}
